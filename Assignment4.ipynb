{
 "cells": [
  {
   "cell_type": "code",
   "execution_count": 5,
   "id": "92a9b066",
   "metadata": {},
   "outputs": [
    {
     "name": "stdout",
     "output_type": "stream",
     "text": [
      "enter the score55\n",
      "grade is C\n"
     ]
    }
   ],
   "source": [
    "# 1st question\n",
    "x=int(input('enter the score'))\n",
    "\n",
    "if x<25:\n",
    "    print('grade is F')\n",
    "elif x>=25 and x<45:\n",
    "    print('grade is E')\n",
    "elif x>=45 and x<50:\n",
    "    print('grade is D')\n",
    "elif x>=50 and x<60:\n",
    "    print('grade is C')\n",
    "elif x>=60 and x<80:\n",
    "    print('grade is B')\n",
    "elif x>=80:\n",
    "    print('grade is A')\n",
    "    "
   ]
  },
  {
   "cell_type": "code",
   "execution_count": 20,
   "id": "33824dc0",
   "metadata": {},
   "outputs": [
    {
     "name": "stdout",
     "output_type": "stream",
     "text": [
      "Enter the year457\n",
      "It is not a leap year\n"
     ]
    }
   ],
   "source": [
    "# 2nd question\n",
    "x=int(input('Enter the year'))\n",
    "\n",
    "if x%4==0 and x%400==0:\n",
    "    print('It is a leap year')\n",
    "elif x%4==0 and x%100==0:\n",
    "    print('It is not a leap year')\n",
    "elif x%4==0:\n",
    "    print('It is a leap year')\n",
    "else:\n",
    "    print('It is not a leap year')\n",
    "    "
   ]
  },
  {
   "cell_type": "code",
   "execution_count": 4,
   "id": "c12d35dc",
   "metadata": {},
   "outputs": [
    {
     "name": "stdout",
     "output_type": "stream",
     "text": [
      "question 1 = 9 * 6\n",
      "enter your answer54\n",
      "correct answer\n",
      "question 2 = 0 * 10\n",
      "enter your answer5\n",
      "incorrect answer. the correct answer is 0\n",
      "question 3 = 1 * 0\n",
      "enter your answer0\n",
      "correct answer\n",
      "question 4 = 2 * 9\n",
      "enter your answer18\n",
      "correct answer\n",
      "question 5 = 1 * 4\n",
      "enter your answer6\n",
      "incorrect answer. the correct answer is 4\n",
      "question 6 = 0 * 4\n",
      "enter your answer8\n",
      "incorrect answer. the correct answer is 0\n",
      "question 7 = 0 * 8\n",
      "enter your answer6\n",
      "incorrect answer. the correct answer is 0\n",
      "question 8 = 4 * 6\n",
      "enter your answer24\n",
      "correct answer\n",
      "question 9 = 0 * 7\n",
      "enter your answer7\n",
      "incorrect answer. the correct answer is 0\n",
      "question 10 = 10 * 1\n",
      "enter your answer10\n",
      "correct answer\n"
     ]
    }
   ],
   "source": [
    "import random\n",
    "i=0\n",
    "while i<10:\n",
    "    i+=1\n",
    "    a=random.randint(0,10)\n",
    "    b=random.randint(0,10)\n",
    "    print(\"question\",i,\"=\",a,\"*\",b)\n",
    "    ans=int(input(\"enter your answer\"))\n",
    "    \n",
    "    if ans==a*b:\n",
    "        print(\"correct answer\")\n",
    "    else:\n",
    "        print(\"incorrect answer. the correct answer is\",a*b)"
   ]
  },
  {
   "cell_type": "code",
   "execution_count": 1,
   "id": "913c35c5",
   "metadata": {},
   "outputs": [
    {
     "name": "stdout",
     "output_type": "stream",
     "text": [
      "177 is the answer\n"
     ]
    }
   ],
   "source": [
    "for candies in range (200):\n",
    "    if (candies%5!=2):\n",
    "        continue\n",
    "    if (candies%6!=3):\n",
    "        continue\n",
    "    if (candies%7!=2):\n",
    "        continue\n",
    "    print(str(candies),\"is the answer\")"
   ]
  },
  {
   "cell_type": "code",
   "execution_count": null,
   "id": "f0239486",
   "metadata": {},
   "outputs": [],
   "source": []
  }
 ],
 "metadata": {
  "kernelspec": {
   "display_name": "Python 3 (ipykernel)",
   "language": "python",
   "name": "python3"
  },
  "language_info": {
   "codemirror_mode": {
    "name": "ipython",
    "version": 3
   },
   "file_extension": ".py",
   "mimetype": "text/x-python",
   "name": "python",
   "nbconvert_exporter": "python",
   "pygments_lexer": "ipython3",
   "version": "3.9.13"
  }
 },
 "nbformat": 4,
 "nbformat_minor": 5
}
